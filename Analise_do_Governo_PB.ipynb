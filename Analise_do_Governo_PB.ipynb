{
 "cells": [
  {
   "cell_type": "code",
   "execution_count": 1,
   "id": "5b63e69b",
   "metadata": {
    "scrolled": true
   },
   "outputs": [],
   "source": [
    "import pandas as pd \n",
    "import numpy as np \n",
    "from dash import Dash, html, dcc, Input, Output\n",
    "import plotly.express as px\n",
    "from plotly.offline import plot\n",
    "from plotly.subplots import make_subplots"
   ]
  },
  {
   "cell_type": "markdown",
   "id": "61f94c09",
   "metadata": {},
   "source": [
    "<div class=\"alert alert-block alert-info\">\n",
    "Pegando os Dados diretamente da internet\n",
    "</div>"
   ]
  },
  {
   "cell_type": "code",
   "execution_count": 2,
   "id": "f4dab3fb",
   "metadata": {},
   "outputs": [],
   "source": [
    "#pegando os dados\n",
    "contrato_22 = pd.read_csv(\"https://dados.pb.gov.br:443/getcsv?nome=contratos&exercicio=2022\",\n",
    "                          encoding = 'latin1', header=0, sep=';')\n",
    "contrato_21 = pd.read_csv(\"https://dados.pb.gov.br:443/getcsv?nome=contratos&exercicio=2021\",\n",
    "                          encoding = 'latin1', header=0, sep=';')\n",
    "contrato_20 = pd.read_csv(\"https://dados.pb.gov.br:443/getcsv?nome=contratos&exercicio=2020\",\n",
    "                          encoding = 'latin1', header=0, sep=';')"
   ]
  },
  {
   "cell_type": "code",
   "execution_count": 3,
   "id": "b74b241f",
   "metadata": {},
   "outputs": [],
   "source": [
    "contrato_19 = pd.read_csv(\"https://dados.pb.gov.br:443/getcsv?nome=contratos&exercicio=2019\",\n",
    "                          encoding = 'latin1', header=0, sep=';')\n",
    "contrato_18 = pd.read_csv(\"https://dados.pb.gov.br:443/getcsv?nome=contratos&exercicio=2018\",\n",
    "                          encoding = 'latin1', header=0, sep=';')\n",
    "contrato_17 = pd.read_csv(\"https://dados.pb.gov.br:443/getcsv?nome=contratos&exercicio=2017\",\n",
    "                          encoding = 'latin1', header=0, sep=';')"
   ]
  },
  {
   "cell_type": "code",
   "execution_count": 4,
   "id": "00c0b08e",
   "metadata": {},
   "outputs": [],
   "source": [
    "contrato_16 = pd.read_csv(\"https://dados.pb.gov.br:443/getcsv?nome=contratos&exercicio=2016\",\n",
    "                          encoding = 'latin1', header=0, sep=';')\n",
    "contrato_15 = pd.read_csv(\"https://dados.pb.gov.br:443/getcsv?nome=contratos&exercicio=2015\",\n",
    "                          encoding = 'latin1', header=0, sep=';')\n",
    "contrato_14 = pd.read_csv(\"https://dados.pb.gov.br:443/getcsv?nome=contratos&exercicio=2014\",\n",
    "                          encoding = 'latin1', header=0, sep=';')"
   ]
  },
  {
   "cell_type": "code",
   "execution_count": 5,
   "id": "eb0d6dea",
   "metadata": {},
   "outputs": [],
   "source": [
    "contrato_13 = pd.read_csv(\"https://dados.pb.gov.br:443/getcsv?nome=contratos&exercicio=2013\",\n",
    "                          encoding = 'latin1', header=0, sep=';')\n",
    "contrato_12 = pd.read_csv(\"https://dados.pb.gov.br:443/getcsv?nome=contratos&exercicio=2012\",\n",
    "                          encoding = 'latin1', header=0, sep=';')"
   ]
  },
  {
   "cell_type": "markdown",
   "id": "cfabe48c",
   "metadata": {},
   "source": [
    "<div class=\"alert alert-block alert-info\">\n",
    "Separando por Municipios\n",
    "</div>"
   ]
  },
  {
   "cell_type": "code",
   "execution_count": 6,
   "id": "7ad627d1",
   "metadata": {},
   "outputs": [],
   "source": [
    "\n",
    "municipios_22 = pd.DataFrame(contrato_22[\"NOME_MUNICIPIO\"].value_counts()).head(5)\n",
    "municipios_22 = municipios_22.reset_index()\n",
    "municipios_22.set_axis(['Cidades','2022'], axis='columns', inplace=True)\n",
    "municipios_22.insert(2, \"ano\", [2022, 2022, 2022, 2022, 2022], True)\n",
    "\n",
    "\n",
    "municipios_21 = pd.DataFrame(contrato_21[\"NOME_MUNICIPIO\"].value_counts()).head(5)\n",
    "municipios_21 = municipios_21.reset_index()\n",
    "municipios_21.set_axis(['Cidades','2021'], axis='columns', inplace=True)\n",
    "municipios_21.insert(2, \"ano\", [2021, 2021, 2021, 2021, 2021], True)\n",
    "\n",
    "municipios_20 = pd.DataFrame(contrato_20[\"NOME_MUNICIPIO\"].value_counts()).head(5)\n",
    "municipios_20 = municipios_20.reset_index()\n",
    "municipios_20.set_axis(['Cidades','2020'], axis='columns', inplace=True)\n",
    "municipios_20.insert(2, \"ano\", [2020, 2020, 2020, 2020, 2020], True)\n"
   ]
  },
  {
   "cell_type": "code",
   "execution_count": 7,
   "id": "e6a03184",
   "metadata": {},
   "outputs": [],
   "source": [
    "municipios_19 = pd.DataFrame(contrato_19[\"NOME_MUNICIPIO\"].value_counts()).head(5)\n",
    "municipios_19 = municipios_19.reset_index()\n",
    "municipios_19.set_axis(['Cidades','2019'], axis='columns', inplace=True)\n",
    "municipios_19.insert(2, \"ano\", [2019, 2019, 2019, 2019, 2019], True)\n",
    "\n",
    "municipios_18 = pd.DataFrame(contrato_18[\"NOME_MUNICIPIO\"].value_counts()).head(5)\n",
    "municipios_18 = municipios_18.reset_index()\n",
    "municipios_18.set_axis(['Cidades','2018'], axis='columns', inplace=True)\n",
    "municipios_18.insert(2, \"ano\", [2018, 2018, 2018, 2018, 2018], True)\n",
    "\n",
    "municipios_17 = pd.DataFrame(contrato_17[\"NOME_MUNICIPIO\"].value_counts()).head(5)\n",
    "municipios_17 = municipios_17.reset_index()\n",
    "municipios_17.set_axis(['Cidades','2017'], axis='columns', inplace=True)\n",
    "municipios_17.insert(2, \"ano\", [2017, 2017, 2017, 2017, 2017], True)"
   ]
  },
  {
   "cell_type": "code",
   "execution_count": 8,
   "id": "e2f7cf29",
   "metadata": {},
   "outputs": [],
   "source": [
    "municipios_16 = pd.DataFrame(contrato_16[\"NOME_MUNICIPIO\"].value_counts()).head(5)\n",
    "municipios_16 = municipios_16.reset_index()\n",
    "municipios_16.set_axis(['Cidades','2016'], axis='columns', inplace=True)\n",
    "municipios_16.insert(2, \"ano\", [2016, 2016, 2016, 2016, 2016], True)\n",
    "\n",
    "municipios_15 = pd.DataFrame(contrato_15[\"NOME_MUNICIPIO\"].value_counts()).head(5)\n",
    "municipios_15 = municipios_15.reset_index()\n",
    "municipios_15.set_axis(['Cidades','2015'], axis='columns', inplace=True)\n",
    "municipios_15.insert(2, \"ano\", [2015, 2015, 2015, 2015, 2015], True)\n",
    "\n",
    "municipios_14 = pd.DataFrame(contrato_14[\"NOME_MUNICIPIO\"].value_counts()).head(5)\n",
    "municipios_14 = municipios_14.reset_index()\n",
    "municipios_14.set_axis(['Cidades','2014'], axis='columns', inplace=True)\n",
    "municipios_14.insert(2, \"ano\", [2014, 2014, 2014, 2014, 2014], True)"
   ]
  },
  {
   "cell_type": "code",
   "execution_count": 9,
   "id": "245abe56",
   "metadata": {},
   "outputs": [],
   "source": [
    "municipios_13 = pd.DataFrame(contrato_13[\"NOME_MUNICIPIO\"].value_counts()).head(5)\n",
    "municipios_13 = municipios_13.reset_index()\n",
    "municipios_13.set_axis(['Cidades','2013'], axis='columns', inplace=True)\n",
    "municipios_13.insert(2, \"ano\", [2013, 2013, 2013, 2013, 2013], True)\n",
    "\n",
    "municipios_12 = pd.DataFrame(contrato_12[\"NOME_MUNICIPIO\"].value_counts()).head(5)\n",
    "municipios_12 = municipios_12.reset_index()\n",
    "municipios_12.set_axis(['Cidades','2012'], axis='columns', inplace=True)\n",
    "municipios_12.insert(2, \"ano\", [2012, 2012, 2012, 2012, 2012], True)"
   ]
  },
  {
   "cell_type": "markdown",
   "id": "cf35b99f",
   "metadata": {},
   "source": [
    "<div class=\"alert alert-block alert-info\">\n",
    "Pegando as ações realizadas por João Azevedo\n",
    "</div>"
   ]
  },
  {
   "cell_type": "code",
   "execution_count": 10,
   "id": "805acf38",
   "metadata": {},
   "outputs": [],
   "source": [
    "\n",
    "acao_22 = pd.read_csv(\"https://dados.pb.gov.br:443/getcsv?nome=acao&exercicio=2022\",\n",
    "                          encoding = 'latin1', header=0, sep=';')\n",
    "acao_21 = pd.read_csv(\"https://dados.pb.gov.br:443/getcsv?nome=acao&exercicio=2021\",\n",
    "                          encoding = 'latin1', header=0, sep=';')\n",
    "acao_20 = pd.read_csv(\"https://dados.pb.gov.br:443/getcsv?nome=acao&exercicio=2020\",\n",
    "                          encoding = 'latin1', header=0, sep=';')\n",
    "acao_19 = pd.read_csv(\"https://dados.pb.gov.br:443/getcsv?nome=acao&exercicio=2019\",\n",
    "                          encoding = 'latin1', header=0, sep=';')"
   ]
  },
  {
   "cell_type": "code",
   "execution_count": 11,
   "id": "9e12e749",
   "metadata": {},
   "outputs": [],
   "source": [
    "azevedo =  pd.concat([acao_22, acao_21, acao_20, acao_19]) \n",
    "azevedo_n =pd.DataFrame(azevedo[\"EXERCICIO\"].value_counts())\n",
    "azevedo_n = azevedo_n.reset_index()\n",
    "azevedo_n.set_axis(['Anos','Acao'], axis='columns', inplace=True)"
   ]
  },
  {
   "cell_type": "markdown",
   "id": "3ce600bd",
   "metadata": {},
   "source": [
    "<div class=\"alert alert-block alert-info\">\n",
    "Pegando as ações realizadas no segundo mandato de Ricardo Coutinho\n",
    "</div>"
   ]
  },
  {
   "cell_type": "code",
   "execution_count": 12,
   "id": "ea5fa460",
   "metadata": {},
   "outputs": [],
   "source": [
    "\n",
    "acao_18 = pd.read_csv(\"https://dados.pb.gov.br:443/getcsv?nome=acao&exercicio=2018\",\n",
    "                          encoding = 'latin1', header=0, sep=';')\n",
    "acao_17 = pd.read_csv(\"https://dados.pb.gov.br:443/getcsv?nome=acao&exercicio=2017\",\n",
    "                          encoding = 'latin1', header=0, sep=';')\n",
    "acao_16 = pd.read_csv(\"https://dados.pb.gov.br:443/getcsv?nome=acao&exercicio=2016\",\n",
    "                          encoding = 'latin1', header=0, sep=';')\n",
    "acao_15 = pd.read_csv(\"https://dados.pb.gov.br:443/getcsv?nome=acao&exercicio=2015\",\n",
    "                          encoding = 'latin1', header=0, sep=';')"
   ]
  },
  {
   "cell_type": "code",
   "execution_count": 13,
   "id": "bcfd7f94",
   "metadata": {},
   "outputs": [],
   "source": [
    "ricardo_2 =  pd.concat([acao_18, acao_17, acao_16, acao_15])\n",
    "ricardo_2n = pd.DataFrame(ricardo_2[\"EXERCICIO\"].value_counts())\n",
    "ricardo_2n = ricardo_2n.reset_index()\n",
    "ricardo_2n.set_axis(['Anos','Acao'], axis='columns', inplace=True)"
   ]
  },
  {
   "cell_type": "markdown",
   "id": "6c4e69bf",
   "metadata": {},
   "source": [
    "<div class=\"alert alert-block alert-info\">\n",
    "Pegando as ações realizadas no primeiro mandato de Ricardo Coutinho\n",
    "</div>"
   ]
  },
  {
   "cell_type": "code",
   "execution_count": 14,
   "id": "11c53df0",
   "metadata": {},
   "outputs": [],
   "source": [
    "\n",
    "acao_14 = pd.read_csv(\"https://dados.pb.gov.br:443/getcsv?nome=acao&exercicio=2014\",\n",
    "                          encoding = 'latin1', header=0, sep=';')\n",
    "acao_13 = pd.read_csv(\"https://dados.pb.gov.br:443/getcsv?nome=acao&exercicio=2013\",\n",
    "                          encoding = 'latin1', header=0, sep=';')\n",
    "acao_12 = pd.read_csv(\"https://dados.pb.gov.br:443/getcsv?nome=acao&exercicio=2012\",\n",
    "                          encoding = 'latin1', header=0, sep=';')\n",
    "acao_11 = pd.read_csv(\"https://dados.pb.gov.br:443/getcsv?nome=acao&exercicio=2011\",\n",
    "                          encoding = 'latin1', header=0, sep=';')"
   ]
  },
  {
   "cell_type": "code",
   "execution_count": 15,
   "id": "aa56b3a0",
   "metadata": {},
   "outputs": [],
   "source": [
    "ricardo_1 = pd.concat([acao_14, acao_13, acao_12, acao_11])\n",
    "ricardo_1n = pd.DataFrame(ricardo_1[\"EXERCICIO\"].value_counts())\n",
    "ricardo_1n = ricardo_1n.reset_index()\n",
    "ricardo_1n.set_axis(['Anos','Acao'], axis='columns', inplace=True)"
   ]
  },
  {
   "cell_type": "markdown",
   "id": "04696829",
   "metadata": {},
   "source": [
    "<div class=\"alert alert-block alert-info\">\n",
    "separando as ações realizadas por anos\n",
    "</div>"
   ]
  },
  {
   "cell_type": "code",
   "execution_count": 16,
   "id": "a024817a",
   "metadata": {},
   "outputs": [],
   "source": [
    "ri_ri = pd.concat([ricardo_1n, ricardo_2n], axis = 1)\n",
    "ri_ri = ri_ri.drop(columns=['Anos'])\n",
    "ri_ri.set_axis(['Ricardo1','Ricardo2'], axis='columns', inplace=True)\n",
    "ri_ri.insert(0, \"ano\", ['ano 1','ano 2', 'ano 3', 'ano 4'], True)\n",
    "ri_ri=ri_ri.set_index('ano')"
   ]
  },
  {
   "cell_type": "code",
   "execution_count": 17,
   "id": "87c2682b",
   "metadata": {
    "scrolled": true
   },
   "outputs": [],
   "source": [
    "ri1_az = pd.concat([ricardo_1n, azevedo_n ], axis = 1)\n",
    "ri1_az = ri1_az.drop(columns=['Anos'])\n",
    "ri1_az.set_axis(['Ricardo1','Azevedo'], axis='columns', inplace=True)\n",
    "ri1_az.insert(0, \"ano\", ['ano 1','ano 2', 'ano 3', 'ano 4'], True)\n",
    "ri1_az=ri1_az.set_index('ano')"
   ]
  },
  {
   "cell_type": "code",
   "execution_count": 18,
   "id": "dc887f9e",
   "metadata": {},
   "outputs": [],
   "source": [
    "ri2_az = pd.concat([ricardo_2n, azevedo_n ], axis = 1)\n",
    "ri2_az = ri2_az.drop(columns=['Anos'])\n",
    "ri2_az.set_axis(['Ricardo2','Azevedo'], axis='columns', inplace=True)\n",
    "ri2_az.insert(0, \"ano\", ['ano 1','ano 2', 'ano 3', 'ano 4'], True)\n",
    "ri2_az =ri2_az.set_index('ano')"
   ]
  },
  {
   "cell_type": "markdown",
   "id": "7d208da6",
   "metadata": {},
   "source": [
    "<div class=\"alert alert-block alert-info\">\n",
    "Fazendo a criação do DashBoard\n",
    "</div>"
   ]
  },
  {
   "cell_type": "code",
   "execution_count": 19,
   "id": "3e84c016",
   "metadata": {},
   "outputs": [],
   "source": [
    "app = Dash(__name__)\n",
    "fig = px.bar(municipios_22, x= 'Cidades', y= '2022',color='Cidades')\n",
    "fig2 = px.bar(ricardo_1n, x = 'Anos', y= 'Acao',color='Anos')"
   ]
  },
  {
   "cell_type": "code",
   "execution_count": null,
   "id": "6f49dbfe",
   "metadata": {},
   "outputs": [
    {
     "name": "stdout",
     "output_type": "stream",
     "text": [
      "Dash is running on http://127.0.0.1:8050/\n",
      "\n",
      " * Serving Flask app '__main__'\n",
      " * Debug mode: off\n"
     ]
    },
    {
     "name": "stderr",
     "output_type": "stream",
     "text": [
      "WARNING: This is a development server. Do not use it in a production deployment. Use a production WSGI server instead.\n",
      " * Running on http://127.0.0.1:8050\n",
      "Press CTRL+C to quit\n",
      "127.0.0.1 - - [26/Aug/2022 21:55:51] \"GET / HTTP/1.1\" 200 -\n",
      "127.0.0.1 - - [26/Aug/2022 21:55:51] \"GET /_dash-layout HTTP/1.1\" 200 -\n",
      "127.0.0.1 - - [26/Aug/2022 21:55:51] \"GET /_dash-dependencies HTTP/1.1\" 200 -\n",
      "127.0.0.1 - - [26/Aug/2022 21:55:51] \"GET /_favicon.ico?v=2.6.1 HTTP/1.1\" 200 -\n",
      "127.0.0.1 - - [26/Aug/2022 21:55:51] \"GET /_dash-component-suites/dash/dcc/async-dropdown.js HTTP/1.1\" 304 -\n",
      "127.0.0.1 - - [26/Aug/2022 21:55:51] \"GET /_dash-component-suites/dash/dcc/async-graph.js HTTP/1.1\" 304 -\n",
      "127.0.0.1 - - [26/Aug/2022 21:55:52] \"GET /_dash-component-suites/dash/dcc/async-plotlyjs.js HTTP/1.1\" 304 -\n",
      "127.0.0.1 - - [26/Aug/2022 21:55:52] \"POST /_dash-update-component HTTP/1.1\" 200 -\n",
      "127.0.0.1 - - [26/Aug/2022 21:55:52] \"POST /_dash-update-component HTTP/1.1\" 200 -\n",
      "127.0.0.1 - - [26/Aug/2022 21:55:55] \"POST /_dash-update-component HTTP/1.1\" 200 -\n",
      "127.0.0.1 - - [26/Aug/2022 21:56:03] \"POST /_dash-update-component HTTP/1.1\" 200 -\n",
      "127.0.0.1 - - [26/Aug/2022 21:56:08] \"POST /_dash-update-component HTTP/1.1\" 200 -\n",
      "127.0.0.1 - - [26/Aug/2022 21:56:11] \"POST /_dash-update-component HTTP/1.1\" 200 -\n",
      "127.0.0.1 - - [26/Aug/2022 21:56:18] \"POST /_dash-update-component HTTP/1.1\" 200 -\n",
      "127.0.0.1 - - [26/Aug/2022 21:56:25] \"POST /_dash-update-component HTTP/1.1\" 200 -\n"
     ]
    }
   ],
   "source": [
    "app.layout = html.Div(children=[\n",
    "    html.H1(children='Analise sobre o Governo e Prefeituras da Paraiba',\n",
    "            style={\n",
    "            'textAlign': 'center'\n",
    "        }),\n",
    "\n",
    "    html.H3(children='Contratos realizados pelas Prefeituras',\n",
    "            style={\n",
    "            'textAlign': 'center'\n",
    "        }),\n",
    "    dcc.Dropdown(\n",
    "        id ='anos',\n",
    "        value ='2022',\n",
    "        options=[{'label':'Ano de 2022','value':'2022'}\n",
    "                 ,{'label':'Ano de 2021','value':'2021'}\n",
    "                 ,{'label':'Ano de2020','value':'2020'}\n",
    "                 ,{'label':'Ano de 2019','value':'2019'}\n",
    "                 ,{'label':'Ano de 2018','value':'2018'}\n",
    "                 ,{'label':'Ano de 2017','value':'2017'}\n",
    "                 ,{'label':'Ano de 2016','value':'2016'}\n",
    "                 ,{'label':'Ano de 2015','value':'2015'}\n",
    "                 ,{'label':'Ano de 2014','value':'2014'}\n",
    "                 ,{'label':'Ano de 2013','value':'2013'}\n",
    "                 ,{'label':'Ano de 2012','value':'2012'}\n",
    "                 ,{'label':'Frequencia de Contratos por Anos','value':'todos'}\n",
    "                ,{'label':'Frequencia de Contratos por Cidades','value':'todos2'}]\n",
    "    \n",
    "    ),\n",
    "    dcc.Graph(\n",
    "        id ='example-graph',\n",
    "        figure=fig\n",
    "    ),\n",
    "    html.H3(children='Ações realizadas pelos Governos de Ricardo Coutinho e João Azevedo',\n",
    "            style={\n",
    "            'textAlign': 'center'\n",
    "        }),\n",
    "    \n",
    "    dcc.Dropdown(\n",
    "        id ='governo',\n",
    "        value ='ricardo1',\n",
    "        options=[{'label':'Ricardo Primeiro Mandato','value':'ricardo1'}\n",
    "                 ,{'label':'Ricardo Segundo Mandato','value':'ricardo2'}\n",
    "                 ,{'label':'João Primeiro Mandato','value':'azevedo3'}\n",
    "                 ,{'label':'Ricardo Primeiro Mandato vs Ricardo Segundo Mandato','value':'rivsri'}\n",
    "                 ,{'label':'Ricardo Primeiro Mandato vs Azevedo Primeiro Mandato','value':'ri1vsaz'}\n",
    "                 ,{'label':'Ricardo Segundo Mandato vs Azevedo Primeiro Mandato','value':'ri2vsaz'}]),\n",
    "    \n",
    "    dcc.Graph(\n",
    "        id ='governo_acao',\n",
    "        figure=fig2)\n",
    "    \n",
    "    \n",
    "])\n",
    "@app.callback(\n",
    "    Output('example-graph','figure'),\n",
    "    Input('anos','value')\n",
    ")\n",
    "def update_output(value):\n",
    "    if value == '2022':\n",
    "        fig = px.bar(municipios_22, x = 'Cidades', y= '2022',color='Cidades')\n",
    "    elif value == '2021':\n",
    "        fig = px.bar(municipios_21, x = 'Cidades', y= '2021',color='Cidades')\n",
    "    elif value == '2020':\n",
    "        fig = px.bar(municipios_20, x = 'Cidades', y= '2020',color='Cidades')\n",
    "    elif value == '2019':\n",
    "        fig = px.bar(municipios_19, x= 'Cidades', y= '2019',color='Cidades')\n",
    "    elif value == '2018':\n",
    "        fig = px.bar(municipios_18, x= 'Cidades', y= '2018',color='Cidades')\n",
    "    elif value == '2017':\n",
    "        fig = px.bar(municipios_17, x= 'Cidades', y= '2017',color='Cidades')\n",
    "    elif value == '2016':\n",
    "        fig = px.bar(municipios_16, x= 'Cidades', y= '2016',color='Cidades')\n",
    "    elif value == '2015':\n",
    "        fig = px.bar(municipios_15, x= 'Cidades', y= '2015',color='Cidades')\n",
    "    elif value == '2014':\n",
    "        fig = px.bar(municipios_14, x= 'Cidades', y= '2014',color='Cidades')\n",
    "    elif value == '2013':\n",
    "        fig = px.bar(municipios_13, x= 'Cidades', y= '2013',color='Cidades')\n",
    "    elif value == '2012':\n",
    "        fig = px.bar(municipios_12, x= 'Cidades', y= '2012',color='Cidades')\n",
    "    elif value=='todos':\n",
    "        fig = px.bar(municipios_22, x= 'Cidades', y= '2022', color = '2022', barmode=\"group\",labels={\n",
    "    '2022': 'Contratos'})\n",
    "        fig = fig.add_traces(\n",
    "            px.bar(municipios_21, x=\"Cidades\", y=\"2021\", color ='2021' ,barmode=\"group\").data)\n",
    "        fig = fig.add_traces(\n",
    "            px.bar(municipios_20, x=\"Cidades\", y=\"2020\", color ='2020' ,barmode=\"group\").data)\n",
    "        fig = fig.add_traces(\n",
    "            px.bar(municipios_19, x=\"Cidades\", y=\"2019\", color ='2019' ,barmode=\"group\").data)\n",
    "        fig = fig.add_traces(\n",
    "            px.bar(municipios_18, x=\"Cidades\", y=\"2018\", color ='2018' ,barmode=\"group\").data)\n",
    "        fig = fig.add_traces(\n",
    "            px.bar(municipios_17, x=\"Cidades\", y=\"2017\", color ='2017' ,barmode=\"group\").data)\n",
    "        fig = fig.add_traces(\n",
    "            px.bar(municipios_16, x=\"Cidades\", y=\"2016\", color ='2016' ,barmode=\"group\").data)\n",
    "        fig = fig.add_traces(\n",
    "            px.bar(municipios_15, x=\"Cidades\", y=\"2015\", color ='2015' ,barmode=\"group\").data)\n",
    "        fig = fig.add_traces(\n",
    "            px.bar(municipios_14, x=\"Cidades\", y=\"2014\", color ='2014' ,barmode=\"group\").data)\n",
    "        fig = fig.add_traces(\n",
    "            px.bar(municipios_13, x=\"Cidades\", y=\"2013\", color ='2013' ,barmode=\"group\").data)\n",
    "        fig.add_traces(\n",
    "            px.bar(municipios_12, x=\"Cidades\", y=\"2012\", color ='2012' ,barmode=\"group\").data)\n",
    "    elif value=='todos2':\n",
    "        fig = px.bar(municipios_22, x = 'ano', y = '2022', color = 'Cidades', barmode = 'stack')\n",
    "        fig = fig.add_traces(\n",
    "            px.bar(municipios_21, x=\"ano\", y=\"2021\", color ='Cidades' ,barmode=\"group\").data)\n",
    "        fig = fig.add_traces(\n",
    "            px.bar(municipios_20, x=\"ano\", y=\"2020\", color ='Cidades' ,barmode=\"group\").data)\n",
    "        fig = fig.add_traces(\n",
    "            px.bar(municipios_19, x=\"ano\", y=\"2019\", color ='Cidades' ,barmode=\"group\").data)\n",
    "        fig = fig.add_traces(\n",
    "            px.bar(municipios_18, x=\"ano\", y=\"2018\", color ='Cidades' ,barmode=\"group\").data)\n",
    "        fig = fig.add_traces(\n",
    "            px.bar(municipios_17, x=\"ano\", y=\"2017\", color ='Cidades' ,barmode=\"group\").data)\n",
    "        fig = fig.add_traces(\n",
    "            px.bar(municipios_16, x=\"ano\", y=\"2016\", color ='Cidades' ,barmode=\"group\").data)\n",
    "        fig = fig.add_traces(\n",
    "            px.bar(municipios_15, x=\"ano\", y=\"2015\", color ='Cidades' ,barmode=\"group\").data)\n",
    "        fig = fig.add_traces(\n",
    "            px.bar(municipios_14, x=\"ano\", y=\"2014\", color ='Cidades' ,barmode=\"group\").data)\n",
    "        fig = fig.add_traces(\n",
    "            px.bar(municipios_13, x=\"ano\", y=\"2013\", color ='Cidades' ,barmode=\"group\").data)\n",
    "        fig = fig.add_traces(\n",
    "            px.bar(municipios_12, x=\"ano\", y=\"2012\", color ='Cidades' ,barmode=\"group\").data)\n",
    "    \n",
    "    return fig\n",
    "        \n",
    "@app.callback(\n",
    "    Output('governo_acao','figure'),\n",
    "    Input('governo','value')\n",
    ")\n",
    "def update_output(value):\n",
    "    if value == 'ricardo1':\n",
    "        fig2 = px.bar(ricardo_1n, x = 'Anos', y= 'Acao')\n",
    "    elif value =='ricardo2':\n",
    "        fig2 = px.bar(ricardo_2n, x = 'Anos', y= 'Acao')\n",
    "    elif value== 'azevedo3':\n",
    "        fig2 = px.bar(azevedo_n, x = 'Anos', y= 'Acao')\n",
    "    elif value =='rivsri':\n",
    "        figures = [\n",
    "                    px.bar(ri_ri),\n",
    "            ]\n",
    "\n",
    "        fig2 = make_subplots(rows=len(figures), cols=1) \n",
    "\n",
    "        for i, figure in enumerate(figures):\n",
    "            for trace in range(len(figure[\"data\"])):\n",
    "                fig2.append_trace(figure[\"data\"][trace], row=i+1, col=1)\n",
    "    elif value == 'ri1vsaz':\n",
    "        figures = [\n",
    "                    px.bar(ri1_az),\n",
    "            ]\n",
    "\n",
    "        fig2 = make_subplots(rows=len(figures), cols=1) \n",
    "\n",
    "        for i, figure in enumerate(figures):\n",
    "            for trace in range(len(figure[\"data\"])):\n",
    "                fig2.append_trace(figure[\"data\"][trace], row=i+1, col=1)\n",
    "    elif value == 'ri2vsaz':\n",
    "        figures = [\n",
    "                    px.bar(ri2_az),\n",
    "            ]\n",
    "\n",
    "        fig2 = make_subplots(rows=len(figures), cols=1) \n",
    "\n",
    "        for i, figure in enumerate(figures):\n",
    "            for trace in range(len(figure[\"data\"])):\n",
    "                fig2.append_trace(figure[\"data\"][trace], row=i+1, col=1)\n",
    "\n",
    "    return fig2\n",
    "if __name__ == '__main__':\n",
    "    app.run_server()\n"
   ]
  },
  {
   "cell_type": "code",
   "execution_count": null,
   "id": "93022658",
   "metadata": {},
   "outputs": [],
   "source": []
  }
 ],
 "metadata": {
  "kernelspec": {
   "display_name": "Python 3 (ipykernel)",
   "language": "python",
   "name": "python3"
  },
  "language_info": {
   "codemirror_mode": {
    "name": "ipython",
    "version": 3
   },
   "file_extension": ".py",
   "mimetype": "text/x-python",
   "name": "python",
   "nbconvert_exporter": "python",
   "pygments_lexer": "ipython3",
   "version": "3.10.4"
  }
 },
 "nbformat": 4,
 "nbformat_minor": 5
}
